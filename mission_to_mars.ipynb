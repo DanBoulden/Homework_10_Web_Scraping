{
 "cells": [
  {
   "cell_type": "code",
   "execution_count": 1,
   "metadata": {},
   "outputs": [],
   "source": [
    "# Create a Jupyter Notebook file called mission_to_mars.ipynb and use this to complete all of your scraping and analysis tasks. \n",
    "#     Done, and this is that JN."
   ]
  },
  {
   "cell_type": "code",
   "execution_count": 2,
   "metadata": {},
   "outputs": [],
   "source": [
    "# Load the dependencies\n",
    "from splinter import Browser\n",
    "from splinter.exceptions import ElementDoesNotExist\n",
    "from bs4 import BeautifulSoup as bs\n",
    "import pandas as pd\n",
    "import numpy as np\n",
    "\n",
    "\n",
    "# selenium==3.5.0\n",
    "# splinter==0.7.6"
   ]
  },
  {
   "cell_type": "code",
   "execution_count": 3,
   "metadata": {},
   "outputs": [],
   "source": [
    "# Windows setup\n",
    "executable_path = {'executable_path': 'chromedriver.exe'}\n",
    "browser = Browser('chrome', **executable_path, headless=False)"
   ]
  },
  {
   "cell_type": "code",
   "execution_count": 4,
   "metadata": {},
   "outputs": [],
   "source": [
    "# get the data\n",
    "url = \"https://mars.nasa.gov/news/\"\n",
    "browser.visit(url)"
   ]
  },
  {
   "cell_type": "code",
   "execution_count": 5,
   "metadata": {},
   "outputs": [
    {
     "name": "stdout",
     "output_type": "stream",
     "text": [
      "InSight Is the Newest Mars Weather Service\n",
      "By collecting data around the clock, NASA's lander will provide unique science about the Martian surface.\n",
      "----------\n"
     ]
    }
   ],
   "source": [
    "############ THIS IS THE WORKING ONE!!!!!!!!!!!!!!!!!!\n",
    "# we only need the first page\n",
    "for x in range(1):\n",
    "    # HTML object\n",
    "    html = browser.html\n",
    "    # Parse HTML with Beautiful Soup\n",
    "    soup = bs(html, 'html.parser')\n",
    "#     soup = BeautifulSoup(html, 'html.parser')\n",
    "    # Retrieve all elements that contain book information\n",
    "#     item_lists = soup.find_all(\"div\", class_ =\"content_title\")\n",
    "    sitem_lists = soup.find(\"div\", class_ =\"list_text\")\n",
    "\n",
    "    sa_list2 = sitem_lists.find(\"a\")\n",
    "    news_title = sa_list2.text.strip()\n",
    "    sb_list = sitem_lists.find(\"div\", class_ =\"article_teaser_body\")\n",
    "    news_p = sb_list.text.strip()\n",
    "    print(news_title)\n",
    "    print(news_p)\n",
    "    print(\"----------\")"
   ]
  },
  {
   "cell_type": "code",
   "execution_count": 6,
   "metadata": {},
   "outputs": [
    {
     "name": "stdout",
     "output_type": "stream",
     "text": [
      "<div class=\"list_text\"><div class=\"list_date\">February 19, 2019</div><div class=\"content_title\"><a href=\"/news/8415/insight-is-the-newest-mars-weather-service/\" target=\"_self\">InSight Is the Newest Mars Weather Service</a></div><div class=\"article_teaser_body\">By collecting data around the clock, NASA's lander will provide unique science about the Martian surface.</div></div>\n"
     ]
    }
   ],
   "source": [
    "print(sitem_lists)"
   ]
  },
  {
   "cell_type": "code",
   "execution_count": 7,
   "metadata": {},
   "outputs": [],
   "source": [
    "# Visit the url for JPL Featured Space Image here. (https://www.jpl.nasa.gov/spaceimages/?search=&category=Mars)\n",
    "# Use splinter to navigate the site and find the image url for the current Featured Mars Image and assign the url string to a variable called featured_image_url.\n",
    "# Make sure to find the image url to the full size .jpg image.\n",
    "# Make sure to save a complete url string for this image."
   ]
  },
  {
   "cell_type": "code",
   "execution_count": 8,
   "metadata": {},
   "outputs": [],
   "source": [
    "# get the data\n",
    "url_jpl = \"https://www.jpl.nasa.gov/spaceimages/?search=&category=Mars\"\n",
    "# browser.visit(url_jpl)"
   ]
  },
  {
   "cell_type": "code",
   "execution_count": 9,
   "metadata": {},
   "outputs": [
    {
     "name": "stdout",
     "output_type": "stream",
     "text": [
      "https://www.jpl.nasa.gov/spaceimages/images/mediumsize/PIA14934_ip.jpg\n"
     ]
    }
   ],
   "source": [
    "# need to take the \"data-fancybox-group=\"images\"\"\n",
    "#     and add \"https://www.jpl.nasa.gov\" to the begenning of it to get the correct image path.\n",
    "browser.visit(url_jpl)\n",
    "html = browser.html\n",
    "jpl_bs = bs(html, \"html.parser\")\n",
    "image_jpl = jpl_bs.find(\"a\", {\"id\": \"full_image\", \"data-fancybox-href\": True}).get(\"data-fancybox-href\")\n",
    "\n",
    "# take the image path (image_jpl) and add the begenning part to it.\n",
    "featured_image_url = (\"https://www.jpl.nasa.gov\" + image_jpl)\n",
    "\n",
    "print(featured_image_url)"
   ]
  },
  {
   "cell_type": "code",
   "execution_count": 10,
   "metadata": {},
   "outputs": [
    {
     "name": "stdout",
     "output_type": "stream",
     "text": [
      "InSight Is the Newest Mars Weather Service\n",
      "By collecting data around the clock, NASA's lander will provide unique science about the Martian surface.\n",
      "https://www.jpl.nasa.gov/spaceimages/images/mediumsize/PIA14934_ip.jpg\n"
     ]
    }
   ],
   "source": [
    "# lets see the three we have so far\n",
    "print(news_title)\n",
    "print(news_p)\n",
    "print(featured_image_url)"
   ]
  },
  {
   "cell_type": "code",
   "execution_count": 11,
   "metadata": {},
   "outputs": [],
   "source": [
    "# Visit the Mars Weather twitter account here and scrape the latest Mars weather tweet from the page.\n",
    "#     Save the tweet text for the weather report as a variable called mars_weather.\n",
    "\n",
    "\n",
    "# get the data for twitter mars\n",
    "url_tm = \"https://twitter.com/marswxreport?lang=en\"\n",
    "# browser.visit(url_tm)\n",
    "\n",
    "\n",
    "    "
   ]
  },
  {
   "cell_type": "code",
   "execution_count": 12,
   "metadata": {},
   "outputs": [
    {
     "name": "stdout",
     "output_type": "stream",
     "text": [
      "#Opportunity the robot achieved so much because of #Opportunity the team.  People like @PlanetaryKeri, @doug_ellison, @marsroverdriver, @tanyaofmars,  @marssciencegrad, @cirquelar, @bellutta, @Dr_ThomasZ and so many more. Read more at #WRALhttps://www.wral.com/my-battery-is-low-and-it-s-getting-dark-end-of-opportunity-mission-a-loss-for-team/18197530/ …\n"
     ]
    }
   ],
   "source": [
    "browser.visit(url_tm)\n",
    "html = browser.html\n",
    "twit_mars = bs(html, \"html.parser\")\n",
    "# find the first tweet and get all of its text that will ahve the weather\n",
    "twit_mars_full = twit_mars.find(\"p\", class_=\"TweetTextSize TweetTextSize--normal js-tweet-text tweet-text\")\n",
    "# now we need to clean it up so that it is just the weather\n",
    "parsed = twit_mars_full.text.split(\"pic\")\n",
    "mars_weather = parsed[0].strip()\n",
    "\n",
    "print(mars_weather)"
   ]
  },
  {
   "cell_type": "code",
   "execution_count": 13,
   "metadata": {},
   "outputs": [],
   "source": [
    "# mars_weather1 = parsed[1].strip()\n",
    "# print(mars_weather1)"
   ]
  },
  {
   "cell_type": "code",
   "execution_count": 14,
   "metadata": {},
   "outputs": [
    {
     "name": "stdout",
     "output_type": "stream",
     "text": [
      "#Opportunity the robot achieved so much because of #Opportunity the team.  People like @PlanetaryKeri, @doug_ellison, @marsroverdriver, @tanyaofmars,  @marssciencegrad, @cirquelar, @bellutta, @Dr_ThomasZ and so many more. Read more at #WRALhttps://www.wral.com/my-battery-is-low-and-it-s-getting-dark-end-of-opportunity-mission-a-loss-for-team/18197530/ …\n"
     ]
    }
   ],
   "source": [
    "print(mars_weather)"
   ]
  },
  {
   "cell_type": "code",
   "execution_count": 15,
   "metadata": {},
   "outputs": [
    {
     "name": "stdout",
     "output_type": "stream",
     "text": [
      "InSight Is the Newest Mars Weather Service\n",
      "--------------\n",
      "By collecting data around the clock, NASA's lander will provide unique science about the Martian surface.\n",
      "--------------\n",
      "https://www.jpl.nasa.gov/spaceimages/images/mediumsize/PIA14934_ip.jpg\n",
      "--------------\n",
      "#Opportunity the robot achieved so much because of #Opportunity the team.  People like @PlanetaryKeri, @doug_ellison, @marsroverdriver, @tanyaofmars,  @marssciencegrad, @cirquelar, @bellutta, @Dr_ThomasZ and so many more. Read more at #WRALhttps://www.wral.com/my-battery-is-low-and-it-s-getting-dark-end-of-opportunity-mission-a-loss-for-team/18197530/ …\n"
     ]
    }
   ],
   "source": [
    "# lets see ALL 4 :-)\n",
    "print(news_title)\n",
    "print(\"--------------\")\n",
    "print(news_p)\n",
    "print(\"--------------\")\n",
    "print(featured_image_url)\n",
    "print(\"--------------\")\n",
    "print(mars_weather)"
   ]
  },
  {
   "cell_type": "code",
   "execution_count": 16,
   "metadata": {},
   "outputs": [
    {
     "name": "stdout",
     "output_type": "stream",
     "text": [
      "                                               FACT\n",
      "FACT_TITLE                                         \n",
      "Equatorial Diameter:                       6,792 km\n",
      "Polar Diameter:                            6,752 km\n",
      "Mass:                 6.42 x 10^23 kg (10.7% Earth)\n",
      "Moons:                          2 (Phobos & Deimos)\n",
      "Orbit Distance:            227,943,824 km (1.52 AU)\n",
      "Orbit Period:                  687 days (1.9 years)\n",
      "Surface Temperature:                  -153 to 20 °C\n",
      "First Record:                     2nd millennium BC\n",
      "Recorded By:                   Egyptian astronomers\n"
     ]
    }
   ],
   "source": [
    "# Just the facts... mars facts\n",
    "url_mf = \"https://space-facts.com/mars/\"\n",
    "browser.visit(url_mf)\n",
    "\n",
    "# find the facts table about mars\n",
    "\n",
    "facts_mars_df = pd.read_html(url_mf)\n",
    "facts_mars_df1 = pd.DataFrame(facts_mars_df[0])\n",
    "\n",
    "facts_mars_df1.columns = [\"FACT_TITLE\",\"FACT\"]\n",
    "facts_mars_df1_table = facts_mars_df1.set_index(\"FACT_TITLE\")\n",
    "\n",
    "\n",
    "print(facts_mars_df1_table)\n",
    "\n",
    "# facts_mars_df1_table.to_html(\"Mars_Facts.html\")\n",
    "facts_mars_df1.to_html(\"Mars_Facts.html\")\n"
   ]
  },
  {
   "cell_type": "code",
   "execution_count": 17,
   "metadata": {},
   "outputs": [
    {
     "name": "stdout",
     "output_type": "stream",
     "text": [
      "InSight Is the Newest Mars Weather Service\n",
      "--------------\n",
      "By collecting data around the clock, NASA's lander will provide unique science about the Martian surface.\n",
      "--------------\n",
      "https://www.jpl.nasa.gov/spaceimages/images/mediumsize/PIA14934_ip.jpg\n",
      "--------------\n",
      "#Opportunity the robot achieved so much because of #Opportunity the team.  People like @PlanetaryKeri, @doug_ellison, @marsroverdriver, @tanyaofmars,  @marssciencegrad, @cirquelar, @bellutta, @Dr_ThomasZ and so many more. Read more at #WRALhttps://www.wral.com/my-battery-is-low-and-it-s-getting-dark-end-of-opportunity-mission-a-loss-for-team/18197530/ …\n",
      "--------------\n",
      "                                               FACT\n",
      "FACT_TITLE                                         \n",
      "Equatorial Diameter:                       6,792 km\n",
      "Polar Diameter:                            6,752 km\n",
      "Mass:                 6.42 x 10^23 kg (10.7% Earth)\n",
      "Moons:                          2 (Phobos & Deimos)\n",
      "Orbit Distance:            227,943,824 km (1.52 AU)\n",
      "Orbit Period:                  687 days (1.9 years)\n",
      "Surface Temperature:                  -153 to 20 °C\n",
      "First Record:                     2nd millennium BC\n",
      "Recorded By:                   Egyptian astronomers\n",
      "--------------\n",
      "             FACT_TITLE                           FACT\n",
      "0  Equatorial Diameter:                       6,792 km\n",
      "1       Polar Diameter:                       6,752 km\n",
      "2                 Mass:  6.42 x 10^23 kg (10.7% Earth)\n",
      "3                Moons:            2 (Phobos & Deimos)\n",
      "4       Orbit Distance:       227,943,824 km (1.52 AU)\n",
      "5         Orbit Period:           687 days (1.9 years)\n",
      "6  Surface Temperature:                  -153 to 20 °C\n",
      "7         First Record:              2nd millennium BC\n",
      "8          Recorded By:           Egyptian astronomers\n"
     ]
    }
   ],
   "source": [
    "# lets see ALL 5 that we have now :-)\n",
    "print(news_title)\n",
    "print(\"--------------\")\n",
    "print(news_p)\n",
    "print(\"--------------\")\n",
    "print(featured_image_url)\n",
    "print(\"--------------\")\n",
    "print(mars_weather)\n",
    "print(\"--------------\")\n",
    "print(facts_mars_df1_table)\n",
    "print(\"--------------\")\n",
    "print(facts_mars_df1)"
   ]
  },
  {
   "cell_type": "code",
   "execution_count": 18,
   "metadata": {},
   "outputs": [],
   "source": [
    "# get 1 of 4 images\n",
    "url_CHE = \"https://astrogeology.usgs.gov/search/map/Mars/Viking/cerberus_enhanced\"\n",
    "browser.visit(url_CHE)\n",
    "\n",
    "html = browser.html\n",
    "photos_CHE = bs(html, \"html.parser\")\n",
    "\n",
    "photos_CHE1 = photos_CHE.find(\"div\", class_ =\"downloads\")\n",
    "\n",
    "photos_CHE2 = photos_CHE1.select(\"li\")[1]\n",
    "photo_CHE = photos_CHE2.a[\"href\"]\n",
    "\n"
   ]
  },
  {
   "cell_type": "code",
   "execution_count": 19,
   "metadata": {},
   "outputs": [
    {
     "name": "stdout",
     "output_type": "stream",
     "text": [
      "<div class=\"downloads\">\n",
      "<img class=\"thumb\" src=\"/cache/images/dfaf3849e74bf973b59eb50dab52b583_cerberus_enhanced.tif_thumb.png\"/>\n",
      "<h3>Download</h3>\n",
      "<ul>\n",
      "<li><a href=\"http://astropedia.astrogeology.usgs.gov/download/Mars/Viking/cerberus_enhanced.tif/full.jpg\" target=\"_blank\">Sample</a> (jpg) 1024px wide</li>\n",
      "<li><a href=\"http://astropedia.astrogeology.usgs.gov/download/Mars/Viking/cerberus_enhanced.tif\" target=\"_blank\">Original</a> (tif<span class=\"tooltip word-tif\" title=\"\"></span>) 21 MB</li>\n",
      "</ul>\n",
      "</div>\n"
     ]
    }
   ],
   "source": [
    "print(photos_CHE1)"
   ]
  },
  {
   "cell_type": "code",
   "execution_count": 20,
   "metadata": {},
   "outputs": [],
   "source": [
    "# get 2 of 4 images\n",
    "url_SHE = \"https://astrogeology.usgs.gov/search/map/Mars/Viking/schiaparelli_enhanced\"\n",
    "browser.visit(url_SHE)\n",
    "\n",
    "html = browser.html\n",
    "photos_SHE = bs(html, \"html.parser\")\n",
    "\n",
    "photos_SHE1 = photos_SHE.find(\"div\", class_ =\"downloads\")\n",
    "\n",
    "photos_SHE2 = photos_SHE1.select('li')[1]\n",
    "photo_SHE = photos_SHE2.a['href']"
   ]
  },
  {
   "cell_type": "code",
   "execution_count": 21,
   "metadata": {},
   "outputs": [],
   "source": [
    "# get 3 of 4 images\n",
    "url_SMHE = \"https://astrogeology.usgs.gov/search/map/Mars/Viking/syrtis_major_enhanced\"\n",
    "browser.visit(url_SMHE)\n",
    "\n",
    "html = browser.html\n",
    "photos_SMHE = bs(html, \"html.parser\")\n",
    "\n",
    "photos_SMHE1 = photos_SMHE.find(\"div\", class_ =\"downloads\")\n",
    "\n",
    "photos_SMHE2 = photos_SMHE1.select('li')[1]\n",
    "photo_SMHE = photos_SMHE2.a['href']"
   ]
  },
  {
   "cell_type": "code",
   "execution_count": 22,
   "metadata": {},
   "outputs": [],
   "source": [
    "# get 4 of 4 images\n",
    "url_VMHE = \"https://astrogeology.usgs.gov/search/map/Mars/Viking/valles_marineris_enhanced\"\n",
    "browser.visit(url_VMHE)\n",
    "\n",
    "html = browser.html\n",
    "photos_VMHE = bs(html, \"html.parser\")\n",
    "\n",
    "photos_VMHE1 = photos_VMHE.find(\"div\", class_ =\"downloads\")\n",
    "\n",
    "\n",
    "photos_VMHE2 = photos_VMHE1.select('li')[1]\n",
    "photo_VMHE = photos_VMHE2.a['href']"
   ]
  },
  {
   "cell_type": "code",
   "execution_count": 23,
   "metadata": {},
   "outputs": [
    {
     "name": "stdout",
     "output_type": "stream",
     "text": [
      "<div class=\"downloads\">\n",
      "<img class=\"thumb\" src=\"/cache/images/04085d99ec3713883a9a57f42be9c725_valles_marineris_enhanced.tif_thumb.png\"/>\n",
      "<h3>Download</h3>\n",
      "<ul>\n",
      "<li><a href=\"http://astropedia.astrogeology.usgs.gov/download/Mars/Viking/valles_marineris_enhanced.tif/full.jpg\" target=\"_blank\">Sample</a> (jpg) 1024px wide</li>\n",
      "<li><a href=\"http://astropedia.astrogeology.usgs.gov/download/Mars/Viking/valles_marineris_enhanced.tif\" target=\"_blank\">Original</a> (tif<span class=\"tooltip word-tif\" title=\"\"></span>) 27 MB</li>\n",
      "</ul>\n",
      "</div>\n"
     ]
    }
   ],
   "source": [
    "print(photos_VMHE1)"
   ]
  },
  {
   "cell_type": "code",
   "execution_count": 24,
   "metadata": {},
   "outputs": [
    {
     "name": "stdout",
     "output_type": "stream",
     "text": [
      "http://astropedia.astrogeology.usgs.gov/download/Mars/Viking/cerberus_enhanced.tif\n",
      "-------------\n",
      "http://astropedia.astrogeology.usgs.gov/download/Mars/Viking/schiaparelli_enhanced.tif\n",
      "-------------\n",
      "http://astropedia.astrogeology.usgs.gov/download/Mars/Viking/syrtis_major_enhanced.tif\n",
      "-------------\n",
      "http://astropedia.astrogeology.usgs.gov/download/Mars/Viking/valles_marineris_enhanced.tif\n"
     ]
    }
   ],
   "source": [
    "print(photo_CHE)\n",
    "print(\"-------------\")\n",
    "print(photo_SHE)\n",
    "print(\"-------------\")\n",
    "print(photo_SMHE)\n",
    "print(\"-------------\")\n",
    "print(photo_VMHE)"
   ]
  },
  {
   "cell_type": "code",
   "execution_count": 25,
   "metadata": {},
   "outputs": [
    {
     "name": "stdout",
     "output_type": "stream",
     "text": [
      "[{'title': 'Valles Marineris Hemisphere', 'img_url': 'http://astropedia.astrogeology.usgs.gov/download/Mars/Viking/cerberus_enhanced.tif'}, {'title': 'Cerberus Hemisphere', 'img_url': 'http://astropedia.astrogeology.usgs.gov/download/Mars/Viking/schiaparelli_enhanced.tif'}, {'title': 'Schiaparelli Hemisphere', 'img_url': 'http://astropedia.astrogeology.usgs.gov/download/Mars/Viking/syrtis_major_enhanced.tif'}, {'title': 'Syrtis Major Hemisphere', 'img_url': 'http://astropedia.astrogeology.usgs.gov/download/Mars/Viking/valles_marineris_enhanced.tif'}]\n"
     ]
    }
   ],
   "source": [
    "# Make the python dictonary with the images\n",
    "\n",
    "hemisphere_image_urls = [\n",
    "    {\"title\": \"Valles Marineris Hemisphere\", \"img_url\": photo_CHE},\n",
    "    {\"title\": \"Cerberus Hemisphere\", \"img_url\": photo_SHE},\n",
    "    {\"title\": \"Schiaparelli Hemisphere\", \"img_url\": photo_SMHE},\n",
    "    {\"title\": \"Syrtis Major Hemisphere\", \"img_url\": photo_VMHE},\n",
    "]\n",
    " \n",
    "print(hemisphere_image_urls)"
   ]
  },
  {
   "cell_type": "code",
   "execution_count": 26,
   "metadata": {},
   "outputs": [
    {
     "name": "stdout",
     "output_type": "stream",
     "text": [
      "InSight Is the Newest Mars Weather Service\n",
      "--------------\n",
      "By collecting data around the clock, NASA's lander will provide unique science about the Martian surface.\n",
      "--------------\n",
      "https://www.jpl.nasa.gov/spaceimages/images/mediumsize/PIA14934_ip.jpg\n",
      "--------------\n",
      "#Opportunity the robot achieved so much because of #Opportunity the team.  People like @PlanetaryKeri, @doug_ellison, @marsroverdriver, @tanyaofmars,  @marssciencegrad, @cirquelar, @bellutta, @Dr_ThomasZ and so many more. Read more at #WRALhttps://www.wral.com/my-battery-is-low-and-it-s-getting-dark-end-of-opportunity-mission-a-loss-for-team/18197530/ …\n",
      "------------------------------------------------------------------------------\n",
      "                                               FACT\n",
      "FACT_TITLE                                         \n",
      "Equatorial Diameter:                       6,792 km\n",
      "Polar Diameter:                            6,752 km\n",
      "Mass:                 6.42 x 10^23 kg (10.7% Earth)\n",
      "Moons:                          2 (Phobos & Deimos)\n",
      "Orbit Distance:            227,943,824 km (1.52 AU)\n",
      "Orbit Period:                  687 days (1.9 years)\n",
      "Surface Temperature:                  -153 to 20 °C\n",
      "First Record:                     2nd millennium BC\n",
      "Recorded By:                   Egyptian astronomers\n",
      "------------------------------------------------------------------------------\n",
      "             FACT_TITLE                           FACT\n",
      "0  Equatorial Diameter:                       6,792 km\n",
      "1       Polar Diameter:                       6,752 km\n",
      "2                 Mass:  6.42 x 10^23 kg (10.7% Earth)\n",
      "3                Moons:            2 (Phobos & Deimos)\n",
      "4       Orbit Distance:       227,943,824 km (1.52 AU)\n",
      "5         Orbit Period:           687 days (1.9 years)\n",
      "6  Surface Temperature:                  -153 to 20 °C\n",
      "7         First Record:              2nd millennium BC\n",
      "8          Recorded By:           Egyptian astronomers\n",
      "------------------------------------------------------------------------------\n",
      "http://astropedia.astrogeology.usgs.gov/download/Mars/Viking/cerberus_enhanced.tif\n",
      "-------------\n",
      "http://astropedia.astrogeology.usgs.gov/download/Mars/Viking/schiaparelli_enhanced.tif\n",
      "-------------\n",
      "http://astropedia.astrogeology.usgs.gov/download/Mars/Viking/syrtis_major_enhanced.tif\n",
      "-------------\n",
      "http://astropedia.astrogeology.usgs.gov/download/Mars/Viking/valles_marineris_enhanced.tif\n",
      "-----------------------------------------------------------------------------\n",
      "[{'title': 'Valles Marineris Hemisphere', 'img_url': 'http://astropedia.astrogeology.usgs.gov/download/Mars/Viking/cerberus_enhanced.tif'}, {'title': 'Cerberus Hemisphere', 'img_url': 'http://astropedia.astrogeology.usgs.gov/download/Mars/Viking/schiaparelli_enhanced.tif'}, {'title': 'Schiaparelli Hemisphere', 'img_url': 'http://astropedia.astrogeology.usgs.gov/download/Mars/Viking/syrtis_major_enhanced.tif'}, {'title': 'Syrtis Major Hemisphere', 'img_url': 'http://astropedia.astrogeology.usgs.gov/download/Mars/Viking/valles_marineris_enhanced.tif'}]\n"
     ]
    }
   ],
   "source": [
    "# lets see ALL of the stuff needed :-)\n",
    "print(news_title)\n",
    "print(\"--------------\")\n",
    "print(news_p)\n",
    "print(\"--------------\")\n",
    "print(featured_image_url)\n",
    "print(\"--------------\")\n",
    "print(mars_weather)\n",
    "print(\"------------------------------------------------------------------------------\")\n",
    "print(facts_mars_df1_table)\n",
    "print(\"------------------------------------------------------------------------------\")\n",
    "print(facts_mars_df1)\n",
    "print(\"------------------------------------------------------------------------------\")\n",
    "print(photo_CHE)\n",
    "print(\"-------------\")\n",
    "print(photo_SHE)\n",
    "print(\"-------------\")\n",
    "print(photo_SMHE)\n",
    "print(\"-------------\")\n",
    "print(photo_VMHE)\n",
    "print(\"-----------------------------------------------------------------------------\")\n",
    "print(hemisphere_image_urls)"
   ]
  },
  {
   "cell_type": "code",
   "execution_count": null,
   "metadata": {},
   "outputs": [],
   "source": []
  },
  {
   "cell_type": "code",
   "execution_count": null,
   "metadata": {},
   "outputs": [],
   "source": []
  },
  {
   "cell_type": "code",
   "execution_count": null,
   "metadata": {},
   "outputs": [],
   "source": []
  },
  {
   "cell_type": "code",
   "execution_count": null,
   "metadata": {},
   "outputs": [],
   "source": []
  },
  {
   "cell_type": "code",
   "execution_count": null,
   "metadata": {},
   "outputs": [],
   "source": []
  },
  {
   "cell_type": "code",
   "execution_count": null,
   "metadata": {},
   "outputs": [],
   "source": []
  },
  {
   "cell_type": "code",
   "execution_count": null,
   "metadata": {},
   "outputs": [],
   "source": []
  },
  {
   "cell_type": "code",
   "execution_count": null,
   "metadata": {},
   "outputs": [],
   "source": []
  },
  {
   "cell_type": "code",
   "execution_count": null,
   "metadata": {},
   "outputs": [],
   "source": []
  },
  {
   "cell_type": "code",
   "execution_count": null,
   "metadata": {},
   "outputs": [],
   "source": []
  },
  {
   "cell_type": "code",
   "execution_count": null,
   "metadata": {},
   "outputs": [],
   "source": []
  },
  {
   "cell_type": "code",
   "execution_count": null,
   "metadata": {},
   "outputs": [],
   "source": []
  },
  {
   "cell_type": "code",
   "execution_count": null,
   "metadata": {},
   "outputs": [],
   "source": []
  }
 ],
 "metadata": {
  "kernelspec": {
   "display_name": "Python 3",
   "language": "python",
   "name": "python3"
  },
  "language_info": {
   "codemirror_mode": {
    "name": "ipython",
    "version": 3
   },
   "file_extension": ".py",
   "mimetype": "text/x-python",
   "name": "python",
   "nbconvert_exporter": "python",
   "pygments_lexer": "ipython3",
   "version": "3.6.6"
  }
 },
 "nbformat": 4,
 "nbformat_minor": 2
}
